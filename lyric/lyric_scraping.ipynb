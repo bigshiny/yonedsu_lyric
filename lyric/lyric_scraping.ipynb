{
 "cells": [
  {
   "cell_type": "code",
   "execution_count": 1,
   "metadata": {},
   "outputs": [],
   "source": [
    "from selenium import webdriver\n",
    "from selenium.webdriver.chrome.options import Options\n",
    "from selenium.webdriver.support.select import Select\n",
    "import requests\n",
    "from bs4 import BeautifulSoup\n",
    "import re\n",
    "import time\n",
    "\n",
    "# setting\n",
    "# Seleniumをあらゆる環境で起動させるChromeオプション\n",
    "options = Options()\n",
    "options.add_argument('--disable-gpu');\n",
    "options.add_argument('--disable-extensions');\n",
    "options.add_argument('--proxy-server=\"direct://\"');\n",
    "options.add_argument('--proxy-bypass-list=*');\n",
    "options.add_argument('--start-maximized');\n",
    "options.add_argument('--headless');"
   ]
  },
  {
   "cell_type": "code",
   "execution_count": 2,
   "metadata": {},
   "outputs": [],
   "source": [
    "class DriverConrol():\n",
    "    def __init__(self, driver):\n",
    "        self.driver = driver\n",
    "        \n",
    "    def get(self, url):\n",
    "        self.driver.get(url)\n",
    "        \n",
    "    def get_text(self, selector):\n",
    "        element = self.driver.find_element_by_css_selector(selector)\n",
    "        return element.text\n",
    "        \n",
    "    def get_text_by_attribute(self, selector, attribute='value'):\n",
    "        element = self.driver.find_element_by_css_selector(selector)\n",
    "        return element.get_attribute(attribute)\n",
    "    \n",
    "    def input_text(self, selector, text):\n",
    "        element = self.driver.find_element_by_css_selector(selector)\n",
    "        element.clear()\n",
    "        element.send_keys(text)\n",
    "        \n",
    "    def select_option(self, selector, text):\n",
    "        element = driver.find_element_by_css_selector(selector)\n",
    "        Select(element).select_by_visible_text(text)\n",
    "        \n",
    "    def click(self, selector):\n",
    "        element = self.driver.find_element_by_css_selector(selector)\n",
    "        element.click()\n",
    "        \n",
    "    def get_lyric(self, url):\n",
    "        self.get(url)\n",
    "        time.sleep(2)\n",
    "        element = self.driver.find_element_by_css_selector('#kashi_area')\n",
    "        lyric = element.text\n",
    "        return lyric\n",
    "    \n",
    "    def get_url(self):\n",
    "        return self.driver.current_url\n",
    "        \n",
    "    def quit(self):\n",
    "        self.driver.quit()"
   ]
  },
  {
   "cell_type": "code",
   "execution_count": 3,
   "metadata": {},
   "outputs": [
    {
     "name": "stderr",
     "output_type": "stream",
     "text": [
      "/anaconda3/lib/python3.7/site-packages/ipykernel_launcher.py:4: DeprecationWarning: use options instead of chrome_options\n",
      "  after removing the cwd from sys.path.\n"
     ]
    }
   ],
   "source": [
    "BASE_URL = 'https://www.uta-net.com/'\n",
    "search_word = '米津玄師'\n",
    "search_jenre = '作詞者名'\n",
    "driver = webdriver.Chrome(chrome_options=options)\n",
    "dc = DriverConrol(driver)\n",
    "dc.get(BASE_URL) # アクセス\n",
    "\n",
    "# 検索\n",
    "dc.input_text('#search_form > div:nth-child(1) > input.search_input', search_word)\n",
    "dc.select_option('#search_form > div:nth-child(2) > select', search_jenre)\n",
    "dc.click('#search_form > div:nth-child(1) > input.search_submit')\n",
    "time.sleep(2)\n",
    "\n",
    "# requestsで一気にurlを取得\n",
    "response = requests.get(dc.get_url())\n",
    "response.encoding = response.apparent_encoding  # 文字化け対策\n",
    "soup = BeautifulSoup(response.text, \"html.parser\")\n",
    "side_td1s = soup.find_all(class_=\"side td1\")  # classがside td1のtd要素を全て取得\n",
    "lyric_urls = [side_td1.find('a', href=re.compile('song')).get('href') for side_td1 in side_td1s]  # side_td1sに含まれる, hrefに''songが含まれるaタグのhref要素を取得\n",
    "music_names = [side_td1.find('a', href=re.compile('song')).text for side_td1 in side_td1s]  # 全曲名を取得"
   ]
  },
  {
   "cell_type": "code",
   "execution_count": 4,
   "metadata": {},
   "outputs": [],
   "source": [
    "lyric_lis = list()\n",
    "for lyric_url in lyric_urls:\n",
    "    lyric_lis.append(dc.get_lyric(BASE_URL + lyric_url))\n",
    "with open(search_word + '_lyrics.txt', 'wt') as f_lyric, open(search_word + '_musics.txt', 'wt') as f_music:\n",
    "    for lyric, music in zip(lyric_lis, music_names):\n",
    "        f_lyric.write(lyric + '\\n\\n')\n",
    "        f_music.write(music + '\\n')"
   ]
  },
  {
   "cell_type": "code",
   "execution_count": 5,
   "metadata": {},
   "outputs": [],
   "source": [
    "dc.quit()"
   ]
  },
  {
   "cell_type": "code",
   "execution_count": null,
   "metadata": {},
   "outputs": [],
   "source": []
  }
 ],
 "metadata": {
  "kernelspec": {
   "display_name": "Python 3",
   "language": "python",
   "name": "python3"
  },
  "language_info": {
   "codemirror_mode": {
    "name": "ipython",
    "version": 3
   },
   "file_extension": ".py",
   "mimetype": "text/x-python",
   "name": "python",
   "nbconvert_exporter": "python",
   "pygments_lexer": "ipython3",
   "version": "3.7.1"
  }
 },
 "nbformat": 4,
 "nbformat_minor": 2
}
